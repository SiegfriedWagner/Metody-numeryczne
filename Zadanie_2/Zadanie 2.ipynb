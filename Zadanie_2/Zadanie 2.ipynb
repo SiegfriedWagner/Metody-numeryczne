{
 "cells": [
  {
   "cell_type": "markdown",
   "metadata": {},
   "source": [
    "**Autor: Mateusz Chojnowski**\n",
    "\n",
    "Zadania:\n",
    "\n",
    "1. Wyznaczyć najmniejszą dodatnią liczbę zmiennopozycyjną\n",
    "2. Wyznaczyć najmniejszą dodatnią liczbę zmiennopozycyjną o znormalizowanej mantysie\n",
    "3. Do powyższego zadania można wykorzystać jednostkę zaokrąglenia  zdefiniowaną jako najmniejszą liczbę taką, że $fl(1 + e) > 1$\n",
    "4. Wyznaczyć największą możliwą liczbę zmiennopozycyjną (mniejszą od ∞)\n",
    "5. Obliczenia wykonać w pojedynczej i podwójnej precyzji (czy na pewno wykonano obliczenia w pojedynczej precyzji?)\n",
    "6. Na wyjściu program wypisuje (trzy) wartości ekstremalne wyznaczone odpowiednio dla pojedynczej i podwójnej precyzji\n",
    "7. Wyniki odnieść do wartości L, U, poziomu niedomiaru (underflow) i nadmiaru (overflow) zawartych w standardzie IEEE 754"
   ]
  },
  {
   "cell_type": "markdown",
   "metadata": {},
   "source": [
    "# Program\n",
    "Na potrzebę zadania został przygotowany program w języku C. Kod programu znajduje się w pliku ```main.c``` załączonym do pracy."
   ]
  },
  {
   "cell_type": "markdown",
   "metadata": {},
   "source": [
    "# Realizacja\n",
    "\n",
    "## Wyznaczyć najmniejszą dodatnią liczbę zmiennopozycyjną\n",
    "\n",
    "Do wyznaczenia najmniejszych dodatnich liczb zmiennopozycyjnych została użyta funkcja ```calculate_lowest_positive_float``` oraz ```calculate_lowest_positive_double```.\n",
    "W przypadku liczby typu ```float``` najmniejsza możliwa liczba wynosi  $0.0000000000000000000000000000000000000000000014012984643248171$ (celowo został podany wynik w takiej postaci).\n",
    "Jest on równy $2^{-149}$ co pokrywa się z postacią typu w standardzie IEEE 754 - $2^7$ (jeden bit zarezerwowany na znak wykładnika) $= 128 + 21$ bitów z mantysy użytych do przechowania nadmiarowego wykładnika co daje w sumie $149$.\n",
    "\n",
    "Dla liczby typu ```double```  uzyskano liczbę o wartości około $2e-324$. Alternatywną drogą do uzyskania minimalnej liczby double wykonania potęgowania $2^{-(1024 + 51)}$ (1024 = 2^10 - wykładnik, 51 - bity mantysy wykorzystane do przechowania wykładnika).\n",
    "\n",
    "Należy zauważyć że wchodząc wykładnikiem w mantyse (łagodny niedomiar) stopniowo tracimy precyzje zawartą w najmniej znaczących bitach mantysy, sposowodwane jest to przesunięciem liczby w mantysie, aby zrobić miejsce na bity niosące informacje o wykładniku."
   ]
  },
  {
   "cell_type": "markdown",
   "metadata": {},
   "source": [
    "## Wyznaczyć najmniejsz dodatnią liczbę zmiennopozycyjną o znormalizowanej mantysie\n",
    "\n",
    "Do wyznaczenia najmniejszych dodatnich liczb zmiennopozycyjnych została użyta funkcja ```calculate_min_positive_float``` oraz ```calculate_min_positive_double```.\n",
    "W znormalizowanej formie najmniejsza wartość ```float``` to $0.000000000000000000000000000000000000011754943508222875$, pokrywa się on z wartością okresloną w standardzie IEEE 754 (w kodzie zawarta jest asercja porównująca uzyskaną wartość ze stałą).\n",
    "\n",
    "W znormalizowanej formie najmniejsz wartość ```double``` około $5e-324$, pokrywa się ona z wartością określoną w standardzie IEEE 754 (w kodzie zawarta jest asercja porównująca uzyskaną wartość ze stałą)."
   ]
  },
  {
   "cell_type": "markdown",
   "metadata": {},
   "source": [
    "# Wyznaczyć jednostkę zaokrąglenia $e_{mach}$\n",
    "\n",
    "Do wyznaczenia jednostki zaokrąglenia $e_{mach}$ dla typu ```float``` oraz ```double``` zostały użyte funkcje ```calculate_emach``` oraz ```calculate_eamch_double```.\n",
    "Poszczególne kroki wyznaczania wartości zostały zapiane do plików załączonych do raportu (```emach_double.csv``` oraz ```emach_float.csv```).\n",
    "\n",
    "Uzyskane wartości, $0.00000011920928955078125$ dla typu ```float``` oraz $0.00000000000000022204460492503131$ dla typu ```double```, pokrywają się z wartościami zawartymi w standardzie (w kodzie znajdują się odpowiednie asercje)."
   ]
  },
  {
   "cell_type": "markdown",
   "metadata": {},
   "source": [
    "# Wyznaczyć największą możliwą liczbę zmiennopozycyjną (mniejszą od $\\infty$)\n",
    "\n",
    "Do wyznaczenia maksymalnych wartości ```float``` i ```double``` zostały użyte funkcje ```calculate_highest_float``` oraz ```calculate_highest_double```.\n",
    "Funkcje te najpierw wypełniają mantysę typu 1, a następnie multiplikują uzyskaną liczbę o 2 do czasu osiągnięcia wartości maksymalnej mniejszej od $\\infty$.\n",
    "\n",
    "Uzyskane liczby to - maksymalna liczba float wynosząca $340282346638528860000000000000000000000$ oraz maksymalna liczba double wynosząca w przybliżeniu $2e+308$.\n",
    "Uzyskane w ten sposób wartości pokrywają się z wartościami zawartymi w standardzie. Wszystkie liczby większe od nich reprezentowane są jako +inf lub może też dojść do przepełnienia typu i nieprawidłowych operacji arytmetycznych (analogiczne przepełnienie typu może wystąpić podczas odejmowania wychodzącego poza maksymalnie ujemny zakres wartości)."
   ]
  }
 ],
 "metadata": {
  "kernelspec": {
   "display_name": "Python 3",
   "language": "python",
   "name": "python3"
  },
  "language_info": {
   "codemirror_mode": {
    "name": "ipython",
    "version": 3
   },
   "file_extension": ".py",
   "mimetype": "text/x-python",
   "name": "python",
   "nbconvert_exporter": "python",
   "pygments_lexer": "ipython3",
   "version": "3.8.0"
  }
 },
 "nbformat": 4,
 "nbformat_minor": 4
}
